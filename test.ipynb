{
 "cells": [
  {
   "cell_type": "code",
   "execution_count": 1,
   "metadata": {},
   "outputs": [
    {
     "name": "stderr",
     "output_type": "stream",
     "text": [
      "/home/ali/hubert_transcriptor/lib/python3.10/site-packages/tqdm/auto.py:22: TqdmWarning: IProgress not found. Please update jupyter and ipywidgets. See https://ipywidgets.readthedocs.io/en/stable/user_install.html\n",
      "  from .autonotebook import tqdm as notebook_tqdm\n"
     ]
    }
   ],
   "source": [
    "from whisper1 import WhisperTranscriptorAPI"
   ]
  },
  {
   "cell_type": "code",
   "execution_count": 2,
   "metadata": {},
   "outputs": [
    {
     "name": "stderr",
     "output_type": "stream",
     "text": [
      "100%|██████████| 10245/10245 [00:27<00:00, 379.16frames/s]\n"
     ]
    }
   ],
   "source": [
    "whisper_transcriptor=WhisperTranscriptorAPI(model_path='openai/whisper-base.en',file_processing=True)\n",
    "result = whisper_transcriptor.generate_timestamps(audio_path='/home/ali/Desktop/idrak_work/transcriptor_module-transcriptor-module/WTranscriptor/audios/backy.wav')"
   ]
  },
  {
   "cell_type": "code",
   "execution_count": 3,
   "metadata": {},
   "outputs": [],
   "source": [
    "transcript = result['text']"
   ]
  },
  {
   "cell_type": "code",
   "execution_count": 4,
   "metadata": {},
   "outputs": [],
   "source": [
    "segments=result['segments']"
   ]
  },
  {
   "cell_type": "code",
   "execution_count": 11,
   "metadata": {},
   "outputs": [],
   "source": [
    "def review(index):\n",
    "    print(segments[index])\n",
    "    print(segments[index]['text'],segments[index]['whole_word_timestamps'])"
   ]
  },
  {
   "cell_type": "code",
   "execution_count": 12,
   "metadata": {},
   "outputs": [
    {
     "name": "stdout",
     "output_type": "stream",
     "text": [
      "{'id': 3, 'seek': 0, 'offset': 0.0, 'start': 6.6000000000000005, 'end': 9.200000000000001, 'text': \" Yeah, that's me. Like what happened? What happened?\", 'tokens': [50389, 18435, 13, 50419, 50513, 9425, 13, 18435, 13, 50563, 50563, 2011, 1438, 318, 47882, 422, 14017, 30582, 13, 1374, 389, 345, 1909, 30, 50693, 50693, 9425, 11, 326, 338, 502, 13, 4525, 644, 3022, 30, 1867, 3022, 30, 50823, 51008, 9425, 13, 51058, 51058, 770, 373, 546, 257, 649, 1181, 17153, 2457, 13, 51173, 51173, 1867, 389, 345, 2045, 379, 30, 51223, 51383, 16805, 13, 51408, 51443, 314, 1101, 7926, 13, 51473, 51473, 1867, 373, 326, 30, 51503, 51503, 16805, 13, 51523, 51523, 9425, 13, 51543, 51543, 314, 1244, 307, 4609, 11, 475, 345, 760, 11, 314, 1101, 8179, 257, 1310, 1643, 826, 783, 13, 51713, 51728], 'temperature': 0.0, 'avg_logprob': -0.4843400377746022, 'compression_ratio': 1.5215311004784688, 'no_speech_prob': 0.34248536825180054, 'alt_start_timestamps': [6.599999904632568, 6.639999866485596, 6.619999885559082, 6.679999828338623, 6.659999847412109, 6.699999809265137, 6.71999979019165, 6.799999713897705, 6.559999942779541, 6.779999732971191], 'start_ts_logits': [11.809486389160156, 10.097288131713867, 9.444629669189453, 8.101422309875488, 8.013306617736816, 7.994684219360352, 7.824255466461182, 7.807228088378906, 7.427103042602539, 7.349376678466797], 'alt_end_timestamps': [9.199999809265137, 9.220000267028809, 9.15999984741211, 9.179999351501465, 9.139999389648438, 9.079999923706055, 9.119999885559082, 9.0, 9.09999942779541, 9.039999961853027], 'end_ts_logits': [5.069704532623291, 4.717161178588867, 3.807877540588379, 3.8052148818969727, 2.5255117416381836, 2.5150609016418457, 2.3474087715148926, 1.887479305267334, 1.8808915615081787, 1.6533968448638916], 'unstable_word_timestamps': [{'word': ' Yeah', 'token': 9425, 'timestamps': [7.0], 'timestamp_logits': [4.277984619140625]}, {'word': ',', 'token': 11, 'timestamps': [7.039999961853027, 7.079999923706055, 7.019999980926514, 7.059999942779541], 'timestamp_logits': [15.959343910217285, 15.536337852478027, 15.384490013122559, 14.150754928588867]}, {'word': ' that', 'token': 326, 'timestamps': [7.079999923706055, 7.099999904632568, 7.119999885559082], 'timestamp_logits': [12.219392776489258, 11.600747108459473, 11.304311752319336]}, {'word': \"'s\", 'token': 338, 'timestamps': [7.159999847412109, 7.139999866485596, 7.179999828338623, 7.119999885559082], 'timestamp_logits': [8.95669937133789, 8.909137725830078, 8.69275188446045, 8.507183074951172]}, {'word': ' me', 'token': 502, 'timestamps': [7.159999847412109, 7.199999809265137, 7.259999752044678, 7.239999771118164, 7.179999828338623, 7.279999732971191, 7.139999866485596, 7.21999979019165, 7.299999713897705, 7.319999694824219], 'timestamp_logits': [10.116011619567871, 10.029857635498047, 9.792854309082031, 9.638425827026367, 9.625039100646973, 9.576976776123047, 9.320966720581055, 9.006754875183105, 8.829463958740234, 8.688465118408203]}, {'word': '.', 'token': 13, 'timestamps': [7.519999980926514, 7.539999961853027, 7.5, 7.480000019073486, 7.440000057220459, 7.399999618530273, 7.199999809265137, 7.419999599456787, 7.460000038146973, 7.239999771118164], 'timestamp_logits': [16.607749938964844, 16.041004180908203, 16.03345489501953, 15.179046630859375, 14.70638656616211, 14.471961975097656, 14.000968933105469, 13.878327369689941, 13.85125732421875, 13.440481185913086]}, {'word': ' Like', 'token': 4525, 'timestamps': [7.519999980926514, 7.559999942779541, 7.539999961853027, 7.5, 7.599999904632568, 7.579999923706055, 7.480000019073486, 7.639999866485596, 7.440000057220459, 7.679999828338623], 'timestamp_logits': [9.159469604492188, 9.099472045898438, 9.042072296142578, 8.061891555786133, 7.401368141174316, 7.137571811676025, 7.011283874511719, 5.964635848999023, 5.848540306091309, 5.611753463745117]}, {'word': ' what', 'token': 644, 'timestamps': [7.839999675750732, 7.799999713897705, 7.819999694824219, 7.759999752044678, 7.779999732971191, 7.859999656677246, 7.87999963760376, 7.919999599456787, 7.899999618530273, 7.71999979019165], 'timestamp_logits': [18.14153289794922, 17.66768455505371, 16.96885871887207, 16.724328994750977, 16.38536834716797, 16.219541549682617, 15.910882949829102, 15.737284660339355, 15.719316482543945, 15.687232971191406]}, {'word': ' happened', 'token': 3022, 'timestamps': [8.039999961853027, 8.0, 8.019999504089355, 8.079999923706055, 7.980000019073486, 8.09999942779541, 8.119999885559082, 8.059999465942383, 7.960000038146973, 7.919999599456787], 'timestamp_logits': [9.96699047088623, 9.936039924621582, 9.781427383422852, 8.418485641479492, 8.351090431213379, 8.280135154724121, 8.177192687988281, 8.104263305664062, 8.09111499786377, 7.785909652709961]}, {'word': '?', 'token': 30, 'timestamps': [8.399999618530273, 8.4399995803833, 8.359999656677246, 8.420000076293945, 8.380000114440918, 8.34000015258789, 8.479999542236328, 8.300000190734863, 8.460000038146973, 8.319999694824219], 'timestamp_logits': [8.575647354125977, 8.221298217773438, 8.108441352844238, 7.670697212219238, 7.575248718261719, 7.513968467712402, 7.317883491516113, 7.311574459075928, 7.303805351257324, 7.114544868469238]}, {'word': ' What', 'token': 1867, 'timestamps': [8.399999618530273, 8.4399995803833, 8.420000076293945, 8.479999542236328, 8.460000038146973, 8.519999504089355, 8.5, 8.559999465942383, 8.579999923706055, 8.59999942779541], 'timestamp_logits': [2.0166616439819336, 1.8284626007080078, 1.3572790622711182, 1.1996699571609497, 0.909947395324707, 0.4508322477340698, 0.0391501784324646, -0.18745112419128418, -0.5147534012794495, -0.5514904260635376]}, {'word': ' happened', 'token': 3022, 'timestamps': [8.720000267028809, 8.699999809265137, 8.639999389648438, 8.679999351501465, 8.760000228881836, 8.779999732971191, 8.739999771118164, 8.65999984741211, 8.59999942779541, 8.579999923706055], 'timestamp_logits': [8.990655899047852, 8.598663330078125, 8.526947021484375, 8.471416473388672, 8.388317108154297, 7.490275859832764, 7.443577766418457, 7.426304340362549, 7.2051568031311035, 7.065849304199219]}, {'word': '?', 'token': 30, 'timestamps': [9.199999809265137, 9.179999351501465, 9.15999984741211, 9.139999389648438, 9.119999885559082, 9.09999942779541, 9.079999923706055, 9.059999465942383, 9.0, 9.039999961853027], 'timestamp_logits': [11.993647575378418, 11.223664283752441, 10.958076477050781, 9.86058521270752, 9.773935317993164, 9.700916290283203, 9.571125030517578, 9.002159118652344, 8.872986793518066, 8.813456535339355]}], 'more_word_timestamps': [[7.0], [7.039999961853027, 7.079999923706055, 7.019999980926514, 7.059999942779541], [7.079999923706055, 7.099999904632568, 7.119999885559082], [7.159999847412109, 7.139999866485596, 7.179999828338623, 7.119999885559082], [7.159999847412109, 7.199999809265137, 7.259999752044678, 7.239999771118164, 7.179999828338623, 7.279999732971191, 7.139999866485596, 7.21999979019165, 7.299999713897705, 7.319999694824219, 7.359999656677246, 7.419999599456787, 7.399999618530273, 7.37999963760376, 7.339999675750732], [7.519999980926514, 7.539999961853027, 7.5, 7.480000019073486, 7.440000057220459, 7.399999618530273, 7.199999809265137, 7.419999599456787, 7.460000038146973, 7.239999771118164, 7.37999963760376, 7.21999979019165, 7.339999675750732, 7.319999694824219, 7.359999656677246, 7.259999752044678, 7.299999713897705, 7.279999732971191], [7.519999980926514, 7.559999942779541, 7.539999961853027, 7.5, 7.599999904632568, 7.579999923706055, 7.480000019073486, 7.639999866485596, 7.440000057220459, 7.679999828338623, 7.699999809265137, 7.460000038146973, 7.619999885559082, 7.659999847412109, 7.71999979019165, 7.759999752044678, 7.799999713897705, 7.739999771118164, 7.819999694824219, 7.779999732971191], [7.839999675750732, 7.799999713897705, 7.819999694824219, 7.759999752044678, 7.779999732971191, 7.859999656677246, 7.87999963760376, 7.919999599456787, 7.899999618530273, 7.71999979019165, 8.0, 7.679999828338623, 7.639999866485596, 7.739999771118164, 7.960000038146973, 7.699999809265137, 7.659999847412109, 7.940000057220459, 7.599999904632568, 7.980000019073486, 7.559999942779541, 7.619999885559082, 8.019999504089355, 7.579999923706055], [8.039999961853027, 8.0, 8.019999504089355, 8.079999923706055, 7.980000019073486, 8.09999942779541, 8.119999885559082, 8.059999465942383, 7.960000038146973, 7.919999599456787, 7.899999618530273, 8.139999389648438, 7.940000057220459, 8.15999984741211, 8.179999351501465, 7.87999963760376, 7.839999675750732, 8.300000190734863, 8.220000267028809, 8.199999809265137, 8.239999771118164, 8.359999656677246, 8.319999694824219, 8.380000114440918, 8.34000015258789, 8.260000228881836, 8.279999732971191, 7.859999656677246], [8.399999618530273, 8.4399995803833, 8.359999656677246, 8.420000076293945, 8.380000114440918, 8.34000015258789, 8.479999542236328, 8.300000190734863, 8.460000038146973, 8.319999694824219, 8.260000228881836, 8.039999961853027, 8.239999771118164, 8.279999732971191, 8.15999984741211, 8.119999885559082, 8.199999809265137, 8.139999389648438, 8.09999942779541, 8.079999923706055, 8.220000267028809, 8.179999351501465, 8.059999465942383], [8.399999618530273, 8.4399995803833, 8.420000076293945, 8.479999542236328, 8.460000038146973, 8.519999504089355, 8.5, 8.559999465942383, 8.579999923706055, 8.59999942779541, 8.539999961853027, 8.639999389648438, 8.619999885559082, 8.679999351501465, 8.65999984741211], [8.720000267028809, 8.699999809265137, 8.639999389648438, 8.679999351501465, 8.760000228881836, 8.779999732971191, 8.739999771118164, 8.65999984741211, 8.59999942779541, 8.579999923706055, 8.619999885559082, 8.800000190734863, 8.84000015258789, 8.519999504089355, 8.880000114440918, 8.559999465942383, 8.539999961853027, 8.819999694824219, 8.9399995803833, 8.859999656677246, 8.920000076293945, 8.5, 9.0, 9.079999923706055, 9.09999942779541, 9.039999961853027, 9.019999504089355, 8.899999618530273, 9.059999465942383, 8.960000038146973, 8.979999542236328], [9.199999809265137, 9.179999351501465, 9.15999984741211, 9.139999389648438, 9.119999885559082, 9.09999942779541, 9.079999923706055, 9.059999465942383, 9.0, 9.039999961853027, 8.859999656677246, 9.019999504089355, 8.880000114440918, 8.84000015258789, 8.760000228881836, 8.899999618530273, 8.9399995803833, 8.960000038146973, 8.920000076293945, 8.720000267028809, 8.800000190734863, 8.779999732971191, 8.699999809265137, 8.739999771118164, 8.979999542236328, 8.819999694824219]], 'more_word_ts_logits': [[4.277984619140625], [15.959343910217285, 15.536337852478027, 15.384490013122559, 14.150754928588867], [12.219392776489258, 11.600747108459473, 11.304311752319336], [8.95669937133789, 8.909137725830078, 8.69275188446045, 8.507183074951172], [10.116011619567871, 10.029857635498047, 9.792854309082031, 9.638425827026367, 9.625039100646973, 9.576976776123047, 9.320966720581055, 9.006754875183105, 8.829463958740234, 8.688465118408203, 8.555924415588379, 7.977165222167969, 7.954299449920654, 7.953575611114502, 7.622804641723633], [16.607749938964844, 16.041004180908203, 16.03345489501953, 15.179046630859375, 14.70638656616211, 14.471961975097656, 14.000968933105469, 13.878327369689941, 13.85125732421875, 13.440481185913086, 13.419576644897461, 13.379820823669434, 13.262975692749023, 13.183818817138672, 13.18267822265625, 12.857563018798828, 12.827479362487793, 12.797425270080566], [9.159469604492188, 9.099472045898438, 9.042072296142578, 8.061891555786133, 7.401368141174316, 7.137571811676025, 7.011283874511719, 5.964635848999023, 5.848540306091309, 5.611753463745117, 5.543494701385498, 5.484029769897461, 5.411933422088623, 5.105223655700684, 5.037662982940674, 5.007009506225586, 4.401617527008057, 4.008263111114502, 3.204771041870117, 3.0100138187408447], [18.14153289794922, 17.66768455505371, 16.96885871887207, 16.724328994750977, 16.38536834716797, 16.219541549682617, 15.910882949829102, 15.737284660339355, 15.719316482543945, 15.687232971191406, 15.61661434173584, 15.551848411560059, 15.22964859008789, 15.228394508361816, 15.197399139404297, 15.087691307067871, 14.975024223327637, 14.846565246582031, 14.702866554260254, 14.541793823242188, 13.88116455078125, 13.777109146118164, 13.677339553833008, 13.290265083312988], [9.96699047088623, 9.936039924621582, 9.781427383422852, 8.418485641479492, 8.351090431213379, 8.280135154724121, 8.177192687988281, 8.104263305664062, 8.09111499786377, 7.785909652709961, 7.702402591705322, 7.645149230957031, 7.599408149719238, 7.272773742675781, 6.931097030639648, 6.834026336669922, 6.625189781188965, 6.622134685516357, 6.5844621658325195, 6.43359375, 6.405359268188477, 6.287544250488281, 6.1343183517456055, 5.841764450073242, 5.758077621459961, 5.543099403381348, 5.4820733070373535, 5.281739711761475], [8.575647354125977, 8.221298217773438, 8.108441352844238, 7.670697212219238, 7.575248718261719, 7.513968467712402, 7.317883491516113, 7.311574459075928, 7.303805351257324, 7.114544868469238, 7.067849159240723, 6.972072601318359, 6.8957295417785645, 6.819736480712891, 6.750556945800781, 6.687231063842773, 6.338171005249023, 6.16779088973999, 6.158649444580078, 6.0387468338012695, 5.89027214050293, 5.619464874267578, 5.51369047164917], [2.0166616439819336, 1.8284626007080078, 1.3572790622711182, 1.1996699571609497, 0.909947395324707, 0.4508322477340698, 0.0391501784324646, -0.18745112419128418, -0.5147534012794495, -0.5514904260635376, -0.7228859663009644, -1.3972015380859375, -1.9837853908538818, -2.0808892250061035, -2.305955648422241], [8.990655899047852, 8.598663330078125, 8.526947021484375, 8.471416473388672, 8.388317108154297, 7.490275859832764, 7.443577766418457, 7.426304340362549, 7.2051568031311035, 7.065849304199219, 6.984996318817139, 6.902405738830566, 6.823578834533691, 6.642143249511719, 6.463404655456543, 6.418713569641113, 6.310360431671143, 6.014203071594238, 5.814459800720215, 5.767111301422119, 5.631202697753906, 5.5454230308532715, 5.500099182128906, 5.411538124084473, 5.162544250488281, 5.121362209320068, 5.061183929443359, 4.95230770111084, 4.873381614685059, 4.516083717346191, 4.115569114685059], [11.993647575378418, 11.223664283752441, 10.958076477050781, 9.86058521270752, 9.773935317993164, 9.700916290283203, 9.571125030517578, 9.002159118652344, 8.872986793518066, 8.813456535339355, 8.28398323059082, 8.269539833068848, 8.203527450561523, 8.162030220031738, 7.883855819702148, 7.837734222412109, 7.781301498413086, 7.757641792297363, 7.74932336807251, 7.560545921325684, 7.4654622077941895, 7.090425491333008, 7.032620429992676, 6.94516134262085, 6.777555465698242, 6.534595489501953]], 'anchor_point': False, 'word_timestamps': [{'word': ' Yeah', 'token': 9425, 'timestamp': 6.77000002861023}, {'word': ',', 'token': 11, 'timestamp': 6.849999904632568}, {'word': ' that', 'token': 326, 'timestamp': 6.879999876022339}, {'word': \"'s\", 'token': 338, 'timestamp': 7.0}, {'word': ' me', 'token': 502, 'timestamp': 7.18999981880188}, {'word': '.', 'token': 13, 'timestamp': 7.499999761581421}, {'word': ' Like', 'token': 4525, 'timestamp': 7.559999942779541}, {'word': ' what', 'token': 644, 'timestamp': 7.819999694824219}, {'word': ' happened', 'token': 3022, 'timestamp': 8.019999742507935}, {'word': '?', 'token': 30, 'timestamp': 8.389999866485596}, {'word': ' What', 'token': 1867, 'timestamp': 8.429999828338623}, {'word': ' happened', 'token': 3022, 'timestamp': 8.679999828338623}, {'word': '?', 'token': 30, 'timestamp': 9.099999904632568}], 'refined': True, 'whole_word_timestamps': [{'word': ' Yeah,', 'timestamp': 6.849999904632568}, {'word': \" that's\", 'timestamp': 7.0}, {'word': ' me.', 'timestamp': 7.499999761581421}, {'word': ' Like', 'timestamp': 7.559999942779541}, {'word': ' what', 'timestamp': 7.819999694824219}, {'word': ' happened?', 'timestamp': 8.389999866485596}, {'word': ' What', 'timestamp': 8.429999828338623}, {'word': ' happened?', 'timestamp': 9.099999904632568}]}\n",
      " Yeah, that's me. Like what happened? What happened? [{'word': ' Yeah,', 'timestamp': 6.849999904632568}, {'word': \" that's\", 'timestamp': 7.0}, {'word': ' me.', 'timestamp': 7.499999761581421}, {'word': ' Like', 'timestamp': 7.559999942779541}, {'word': ' what', 'timestamp': 7.819999694824219}, {'word': ' happened?', 'timestamp': 8.389999866485596}, {'word': ' What', 'timestamp': 8.429999828338623}, {'word': ' happened?', 'timestamp': 9.099999904632568}]\n"
     ]
    }
   ],
   "source": [
    "review(3)"
   ]
  },
  {
   "cell_type": "code",
   "execution_count": 147,
   "metadata": {},
   "outputs": [],
   "source": [
    "def check_next_segments(query_word,segments):\n",
    "    for segment in segments:\n",
    "        for words in segment['whole_word_timestamps']:\n",
    "            if query_word in words['word']:\n",
    "                return words['timestamp']+0.3\n",
    "    return None\n"
   ]
  },
  {
   "cell_type": "code",
   "execution_count": 148,
   "metadata": {},
   "outputs": [],
   "source": [
    "def get_word_index(query_word,words,segments):\n",
    "    for word in words:\n",
    "        if query_word in word['word']:\n",
    "            print(query_word)\n",
    "            return (word['timestamp'])\n",
    "    return check_next_segments(query_word=query_word,segments=segments)"
   ]
  },
  {
   "cell_type": "code",
   "execution_count": 149,
   "metadata": {},
   "outputs": [],
   "source": [
    "def search_for_words(segment,annotator_text,segments=''):\n",
    "    annotator_text_words = annotator_text.split()\n",
    "    word_segments = segment['whole_word_timestamps']\n",
    "    start = get_word_index(annotator_text_words[0],word_segments,segments)\n",
    "    end = get_word_index(annotator_text_words[-1],word_segments,segments)\n",
    "    return start,end"
   ]
  },
  {
   "cell_type": "code",
   "execution_count": 150,
   "metadata": {},
   "outputs": [],
   "source": [
    "def search_for_text_segment(whisper_response, annotator_text, sampling_rate=16000):\n",
    "    \"\"\"Searches for a given text segment within a Whisper response.\n",
    "\n",
    "    Args:\n",
    "        whisper_response (dict): A dictionary containing the Whisper response.\n",
    "        annotator_text (str): The text to search for.\n",
    "        sampling_rate (int): The sampling rate of the audio.\n",
    "\n",
    "    Returns:\n",
    "        A tuple containing the start and end time (in samples) of the text segment, as well as the segment dictionary.\n",
    "\n",
    "    \"\"\"\n",
    "    # Get the segments from the Whisper response\n",
    "    segments = whisper_response.get('segments', [])\n",
    "    start,end = 0, 0\n",
    "    # Search for the text segment within the Whisper response\n",
    "    for i,segment in enumerate(segments):\n",
    "        if annotator_text[:int(len(annotator_text)/3)] in segment['text']:\n",
    "            # Compute the start and end times in samples and return them\n",
    "            start,end = search_for_words(segment=segment,annotator_text=annotator_text,segments=segments[i+1:])\n",
    "            if not start:\n",
    "                start = segment['start']\n",
    "            if not end:\n",
    "                end = segment['end']\n",
    "            start = int(start * sampling_rate)\n",
    "            end = int(end * sampling_rate)\n",
    "            return (start, end)\n",
    "\n",
    "    # If the text segment wasn't found, return None\n",
    "    return None"
   ]
  },
  {
   "cell_type": "code",
   "execution_count": 151,
   "metadata": {},
   "outputs": [],
   "source": [
    "partial_transcript = \"Yeah, go ahead, honey. Go ahead. I'm just \""
   ]
  },
  {
   "cell_type": "code",
   "execution_count": 152,
   "metadata": {},
   "outputs": [
    {
     "name": "stdout",
     "output_type": "stream",
     "text": [
      "Yeah,\n"
     ]
    }
   ],
   "source": [
    "result1=search_for_text_segment(whisper_response=result,annotator_text=partial_transcript)"
   ]
  },
  {
   "cell_type": "code",
   "execution_count": 153,
   "metadata": {},
   "outputs": [
    {
     "data": {
      "text/plain": [
       "((664000, 694879), 1.9299375)"
      ]
     },
     "execution_count": 153,
     "metadata": {},
     "output_type": "execute_result"
    }
   ],
   "source": [
    "result1,(result1[1]-result1[0])/16000"
   ]
  },
  {
   "cell_type": "code",
   "execution_count": 154,
   "metadata": {},
   "outputs": [],
   "source": [
    "import soundfile as sf\n",
    "\n",
    "data, samplerate = sf.read('/home/ali/Desktop/idrak_work/transcriptor_module-transcriptor-module/WTranscriptor/audios/backy.wav')"
   ]
  },
  {
   "cell_type": "code",
   "execution_count": 155,
   "metadata": {},
   "outputs": [],
   "source": [
    "extracted_data=data[result1[0]:result1[1]]"
   ]
  },
  {
   "cell_type": "code",
   "execution_count": 156,
   "metadata": {},
   "outputs": [],
   "source": [
    "sf.write('test_1.wav', extracted_data, samplerate)"
   ]
  },
  {
   "cell_type": "code",
   "execution_count": 146,
   "metadata": {},
   "outputs": [
    {
     "data": {
      "text/plain": [
       "\" Hello. Yeah. Hello. My name is Becky from Senior Benefits. How are you today? Yeah, that's me. Like what happened? What happened? Yeah. This was about a new state regulated final. What are you looking at? Okay. I'm sorry. What was that? Okay. Yeah. I might be interested, but you know, I'm busy a little bit right now. I can talk while I shop, you know, like it's a shopping for me every day. That is a saying. The day without shopping, it's a waste of day. So, ha, yeah. So I'm shopping right now. Mm-hmm. Yeah, go ahead, honey. Go ahead. I'm just going to confirm a few pieces of information. Okay. What is that? It will only take a minute. Okay. I remember it was something like a deal like that, but like what is happening? Getting spread into me. Actually, hold on a second. Excuse me, like I would love to have three bars, three pairs of those I y'all. Would you like to learn more about it? I think it's going to match my high health. Yeah. Hello? I'm sorry. It's just, it's like I have a really, really cool sugar bag just found him breathing. Yeah. He just loved that thing. I asked him about that. Mm-hmm. So, qualify you for this one. Yeah. Are you between the age of 50 to 80? Actually, you know what? Hold your thoughts right right over here. Oh my God. So, if I have these things. So, that's all the information I need now. I'm going to connect you with my insurance consultant who will guide you further. I need a bra. Aah. Aah.\""
      ]
     },
     "execution_count": 146,
     "metadata": {},
     "output_type": "execute_result"
    }
   ],
   "source": [
    "transcript"
   ]
  },
  {
   "cell_type": "code",
   "execution_count": null,
   "metadata": {},
   "outputs": [],
   "source": [
    "def check_next_segments(query_word, segments):\n",
    "    \"\"\"Check for the next segments that contain the query word.\n",
    "\n",
    "    Args:\n",
    "        query_word (str): The query word to search for.\n",
    "        segments (list): A list of segments to search through.\n",
    "\n",
    "    Returns:\n",
    "        The timestamp of the next segment containing the query word if found, otherwise None.\n",
    "    \"\"\"\n",
    "    for segment in segments:\n",
    "        for words in segment['whole_word_timestamps']:\n",
    "            if query_word in words['word']:\n",
    "                return words['timestamp'] + 0.3\n",
    "    return None\n",
    "\n",
    "\n",
    "def get_word_index(query_word, words, segments):\n",
    "    \"\"\"Get the timestamp of the word in the segment.\n",
    "\n",
    "    Args:\n",
    "        query_word (str): The query word to search for.\n",
    "        words (list): A list of words to search through.\n",
    "        segments (list): A list of segments to search through.\n",
    "\n",
    "    Returns:\n",
    "        The timestamp of the word in the segment if found, otherwise the timestamp of the next segment containing the word.\n",
    "    \"\"\"\n",
    "    for word in words:\n",
    "        if query_word in word['word']:\n",
    "            print(query_word)\n",
    "            return word['timestamp']\n",
    "    return check_next_segments(query_word=query_word, segments=segments)\n",
    "\n",
    "\n",
    "def search_for_words(segment, annotator_text, segments=''):\n",
    "    \"\"\"Search for the start and end times of a given text segment.\n",
    "\n",
    "    Args:\n",
    "        segment (dict): A dictionary containing the segment.\n",
    "        annotator_text (str): The text to search for.\n",
    "        segments (list): A list of segments to search through.\n",
    "\n",
    "    Returns:\n",
    "        A tuple containing the start and end times of the text segment.\n",
    "    \"\"\"\n",
    "    annotator_text_words = annotator_text.split()\n",
    "    word_segments = segment['whole_word_timestamps']\n",
    "    start = get_word_index(annotator_text_words[0], word_segments, segments)\n",
    "    end = get_word_index(annotator_text_words[-1], word_segments, segments)\n",
    "    return start, end\n",
    "\n",
    "\n",
    "def search_for_text_segment(whisper_response, annotator_text, sampling_rate=16000):\n",
    "    \"\"\"Search for a given text segment within a Whisper response.\n",
    "\n",
    "    Args:\n",
    "        whisper_response (dict): A dictionary containing the Whisper response.\n",
    "        annotator_text (str): The text to search for.\n",
    "        sampling_rate (int): The sampling rate of the audio.\n",
    "\n",
    "    Returns:\n",
    "        A tuple containing the start and end time (in samples) of the text segment, as well as the segment dictionary.\n",
    "    \"\"\"\n",
    "    # Get the segments from the Whisper response\n",
    "    segments = whisper_response.get('segments', [])\n",
    "    start, end = 0, 0\n",
    "    # Search for the text segment within the Whisper response\n",
    "    for i, segment in enumerate(segments):\n",
    "        if annotator_text[:int(len(annotator_text) / 3)] in segment['text']:\n",
    "            # Compute the start and end times in samples and return them\n",
    "            start, end = search_for_words(segment=segment, annotator_text=annotator_text, segments=segments[i + 1:])\n",
    "            if not start:\n",
    "                start = segment['start']\n",
    "            if not end:\n",
    "                end = segment['end']\n",
    "            start = int(start * sampling_rate)\n",
    "            end = int(end * sampling_rate)\n",
    "            return start, end\n",
    "\n",
    "    # If the text segment wasn't found, return None\n",
    "    return None\n"
   ]
  },
  {
   "cell_type": "code",
   "execution_count": null,
   "metadata": {},
   "outputs": [],
   "source": []
  }
 ],
 "metadata": {
  "kernelspec": {
   "display_name": "hubert_transcriptor",
   "language": "python",
   "name": "python3"
  },
  "language_info": {
   "codemirror_mode": {
    "name": "ipython",
    "version": 3
   },
   "file_extension": ".py",
   "mimetype": "text/x-python",
   "name": "python",
   "nbconvert_exporter": "python",
   "pygments_lexer": "ipython3",
   "version": "3.10.8"
  },
  "orig_nbformat": 4,
  "vscode": {
   "interpreter": {
    "hash": "80a2b0587dfa06f1d708c9ab047dccd6974653fa81a28b836d26c86ec8f3e400"
   }
  }
 },
 "nbformat": 4,
 "nbformat_minor": 2
}
